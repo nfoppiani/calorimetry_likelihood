{
 "cells": [
  {
   "cell_type": "markdown",
   "metadata": {
    "tags": []
   },
   "source": [
    "# Build lookup tables"
   ]
  },
  {
   "cell_type": "code",
   "execution_count": 1,
   "metadata": {},
   "outputs": [],
   "source": [
    "%load_ext autoreload\n",
    "%autoreload 2\n",
    "\n",
    "import math\n",
    "from itertools import product\n",
    "import uproot\n",
    "import numpy as np\n",
    "import matplotlib.pyplot as plt\n",
    "from matplotlib.colors import LogNorm\n",
    "\n",
    "import matplotlib\n",
    "matplotlib.rcParams.update({'font.size': 12})\n",
    "\n",
    "from calorimetry_likelihood.calo_likelihood import caloLikelihood\n",
    "from calorimetry_likelihood.general_functions import selection_for_train, selection_planes, load_lookup_table\n",
    "from calorimetry_likelihood.loaders import load_data\n",
    "from calorimetry_likelihood.hard_coded import branches_lookup\n",
    "from calorimetry_likelihood.initializers import pdgid2name, initialisation_for_caloriemtry_data_mc"
   ]
  },
  {
   "cell_type": "markdown",
   "metadata": {
    "tags": []
   },
   "source": [
    "## Define filename and type of separation"
   ]
  },
  {
   "cell_type": "code",
   "execution_count": 2,
   "metadata": {},
   "outputs": [],
   "source": [
    "# pdg_codes = [321, 2212]\n",
    "pdg_codes = [13, 2212]\n",
    "input_filename = '~/Desktop/MicroBooNE/calorimetry_likelihood/v08/bnb_nu/out_mc_skimmed.root'\n",
    "training_fraction = 0.2"
   ]
  },
  {
   "cell_type": "code",
   "execution_count": 3,
   "metadata": {},
   "outputs": [],
   "source": [
    "output_plot_folder = '/home/nic/Desktop/MicroBooNE/calorimetry_likelihood/trial/'\n",
    "output_plot_folder_pdfs = output_plot_folder + 'pdfs/'\n",
    "\n",
    "!mkdir -p $output_plot_folder\n",
    "!mkdir -p $output_plot_folder_pdfs"
   ]
  },
  {
   "cell_type": "markdown",
   "metadata": {},
   "source": [
    "## Load data"
   ]
  },
  {
   "cell_type": "code",
   "execution_count": 4,
   "metadata": {},
   "outputs": [
    {
     "name": "stdout",
     "output_type": "stream",
     "text": [
      "start loading ~/Desktop/MicroBooNE/calorimetry_likelihood/v08/bnb_nu/out_mc_skimmed.root\n",
      "Done!\n"
     ]
    },
    {
     "name": "stderr",
     "output_type": "stream",
     "text": [
      "/home/nic/miniconda3/envs/pelee/lib/python3.7/site-packages/calorimetry_likelihood/general_functions.py:39: RuntimeWarning: divide by zero encountered in true_divide\n",
      "  return 0.3 / cos\n"
     ]
    }
   ],
   "source": [
    "array, pot = load_data(filename=input_filename, \n",
    "                              branches=branches_lookup, \n",
    "                              fraction=training_fraction, \n",
    "                              before=True)\n",
    "initialisation_for_caloriemtry_data_mc(array)"
   ]
  },
  {
   "cell_type": "markdown",
   "metadata": {},
   "source": [
    "## Define parameters Lookup Table"
   ]
  },
  {
   "cell_type": "code",
   "execution_count": 5,
   "metadata": {},
   "outputs": [],
   "source": [
    "parameters_names = ['rr', 'pitch']\n",
    "parameters_bin_edges = [[0., 2, 4, 7, 10, 15, 20, 30, 50, 100, 300, 2000],\n",
    "                  [0.3, 0.6, 1, 1.5, 3, 30]]\n",
    "\n",
    "dedx_var = 'dedx'\n",
    "dedx_var_end = ''\n",
    "dedx_bins = [0, 0.5, 1, 1.5, 2, 2.5, 3, 3.5, 4, 4.5, 5, 5.5, 6, 6.5, 7, 7.5, 8, 9, 10, 12, 15, 20, 25, 30, 35, 40, 45, 50]\n",
    "\n",
    "parameters = []\n",
    "dedx_vars = []\n",
    "for plane in ['u', 'v', 'y']:\n",
    "    parameters.append([parameter_name+'_'+plane for parameter_name in parameters_names])\n",
    "    dedx_vars.append(dedx_var+'_'+plane+dedx_var_end)\n",
    "\n",
    "pdgcode_var = 'backtracked_pdg'\n",
    "\n",
    "caloLike_train = caloLikelihood()\n",
    "caloLike_train.setPdgCodeVar(pdgcode_var)\n",
    "\n",
    "for i in [0, 1, 2]:\n",
    "    caloLike_train.setVariablesBinning(i, parameters[i], parameters_bin_edges, dedx_vars[i], dedx_bins)"
   ]
  },
  {
   "cell_type": "markdown",
   "metadata": {},
   "source": [
    "## Compute Lookup Table"
   ]
  },
  {
   "cell_type": "code",
   "execution_count": 6,
   "metadata": {},
   "outputs": [
    {
     "name": "stderr",
     "output_type": "stream",
     "text": [
      "/home/nic/Dropbox/MicroBooNE/calorimetry_likelihood/lib/calo_likelihood.py:138: RuntimeWarning: invalid value encountered in true_divide\n",
      "  hist_total/hist_partial[..., np.newaxis],\n",
      "/home/nic/Dropbox/MicroBooNE/calorimetry_likelihood/lib/calo_likelihood.py:149: RuntimeWarning: divide by zero encountered in log\n",
      "  np.log(table_1) - np.log(table_2),\n",
      "/home/nic/Dropbox/MicroBooNE/calorimetry_likelihood/lib/calo_likelihood.py:149: RuntimeWarning: invalid value encountered in subtract\n",
      "  np.log(table_1) - np.log(table_2),\n"
     ]
    }
   ],
   "source": [
    "caloLike_train.setArray(array, \n",
    "                        quality_mask=selection_for_train(array), \n",
    "                        quality_masks_planes=selection_planes(array))\n",
    "caloLike_train.setPdgCodeVar(pdgcode_var)\n",
    "\n",
    "for i in [0, 1, 2]:\n",
    "    caloLike_train.buildLookUpTableMC(i, pdg_codes[0])    \n",
    "    caloLike_train.buildLookUpTableMC(i, pdg_codes[1])    \n",
    "    caloLike_train.buildLookUpLogLikelihoodRatio(i, pdg_codes)"
   ]
  },
  {
   "cell_type": "markdown",
   "metadata": {},
   "source": [
    "## Print the Lookup Table"
   ]
  },
  {
   "cell_type": "code",
   "execution_count": 8,
   "metadata": {},
   "outputs": [],
   "source": [
    "caloLike_train.printCplusplusLookUp(filename=f'../dumped_objects/LLRPID_{pdgid2name[pdg_codes[0]]}_{pdgid2name[pdg_codes[1]]}_lookup.h', \n",
    "                                    pdg_codes=pdg_codes,\n",
    "                                    planes=[0, 1, 2])"
   ]
  },
  {
   "cell_type": "code",
   "execution_count": 9,
   "metadata": {},
   "outputs": [],
   "source": [
    "lookup_calo_filename = f'../dumped_objects/{pdgid2name[pdg_codes[0]]}_{pdgid2name[pdg_codes[1]]}_lookup.dat'"
   ]
  },
  {
   "cell_type": "code",
   "execution_count": 10,
   "metadata": {},
   "outputs": [],
   "source": [
    "caloLike_train.save(filename=lookup_calo_filename)"
   ]
  },
  {
   "cell_type": "markdown",
   "metadata": {},
   "source": [
    "# Plot of the pdfs in bins of residual range and pitch"
   ]
  },
  {
   "cell_type": "code",
   "execution_count": 11,
   "metadata": {},
   "outputs": [],
   "source": [
    "load_lookup = False"
   ]
  },
  {
   "cell_type": "code",
   "execution_count": 12,
   "metadata": {},
   "outputs": [],
   "source": [
    "if load_lookup:\n",
    "    load_lookup_table(caloLike_train, lookup_calo_filename)"
   ]
  },
  {
   "cell_type": "code",
   "execution_count": 13,
   "metadata": {},
   "outputs": [
    {
     "name": "stdout",
     "output_type": "stream",
     "text": [
      "plane 0\n",
      "plane 1\n",
      "plane 2\n"
     ]
    }
   ],
   "source": [
    "for plane_num in [0, 1, 2]:\n",
    "    print(f'plane {plane_num}')\n",
    "    this_folder = output_plot_folder_pdfs + f'plane{plane_num}/'\n",
    "    !mkdir -p $this_folder\n",
    "    bin_centers = product(*caloLike_train.parameters_bin_centers[plane_num])\n",
    "    for bin_center in bin_centers:\n",
    "        caloLike_train.plotLookUpDedxMC(plane_num=plane_num, \n",
    "                                  pdg_code=pdg_codes[0], \n",
    "                                  parameters_value=bin_center, \n",
    "                                  label=pdgid2name[pdg_codes[0]])\n",
    "        caloLike_train.plotLookUpDedxMCfancy(plane_num=plane_num, \n",
    "                                  pdg_code=pdg_codes[1], \n",
    "                                  parameters_value=bin_center, \n",
    "                                  label=pdgid2name[pdg_codes[1]])\n",
    "        plt.xlim(0, 20)\n",
    "        plt.ylim(bottom=0)\n",
    "        plt.tight_layout()\n",
    "        save_label = f'rr_{bin_center[0]:05.0f}_pitch_{bin_center[1]:04.1f}'.replace('.', '')\n",
    "        plt.savefig(this_folder + save_label + '.png', dpi=250)\n",
    "        plt.savefig(this_folder + save_label + '.pdf')\n",
    "        plt.close()"
   ]
  }
 ],
 "metadata": {
  "kernelspec": {
   "display_name": "Python 3",
   "language": "python",
   "name": "python3"
  },
  "language_info": {
   "codemirror_mode": {
    "name": "ipython",
    "version": 3
   },
   "file_extension": ".py",
   "mimetype": "text/x-python",
   "name": "python",
   "nbconvert_exporter": "python",
   "pygments_lexer": "ipython3",
   "version": "3.7.11"
  }
 },
 "nbformat": 4,
 "nbformat_minor": 4
}
