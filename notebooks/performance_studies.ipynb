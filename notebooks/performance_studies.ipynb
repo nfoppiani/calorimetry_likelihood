{
 "cells": [
  {
   "cell_type": "markdown",
   "metadata": {
    "tags": []
   },
   "source": [
    "# Performance plots"
   ]
  },
  {
   "cell_type": "code",
   "execution_count": 1,
   "metadata": {},
   "outputs": [],
   "source": [
    "%load_ext autoreload\n",
    "%autoreload 2\n",
    "\n",
    "import math\n",
    "from itertools import product\n",
    "import uproot\n",
    "import numpy as np\n",
    "import matplotlib.pyplot as plt\n",
    "from matplotlib.colors import LogNorm\n",
    "\n",
    "import matplotlib\n",
    "matplotlib.rcParams.update({'font.size': 12})\n",
    "\n",
    "from calorimetry_likelihood.calo_likelihood import caloLikelihood\n",
    "from calorimetry_likelihood.general_functions import particle_for_test, selection_for_test, selection_planes, compute_pid, add_norm_variable\n",
    "from calorimetry_likelihood.loaders import load_data\n",
    "from calorimetry_likelihood.hard_coded import branches_lookup\n",
    "from calorimetry_likelihood.initializers import pdgid2name, initialisation_for_caloriemtry_data_mc"
   ]
  },
  {
   "cell_type": "markdown",
   "metadata": {
    "tags": []
   },
   "source": [
    "## Define filename and type of separation"
   ]
  },
  {
   "cell_type": "code",
   "execution_count": 2,
   "metadata": {},
   "outputs": [],
   "source": [
    "# pdg_codes = [321, 2212]\n",
    "pdg_codes = [13, 2212]\n",
    "input_filename = '~/Desktop/MicroBooNE/calorimetry_likelihood/v08/bnb_nu/out_mc_skimmed.root'\n",
    "test_fraction = 0.95\n",
    "\n",
    "lookup_calo_filename = f'../dumped_objects/{pdgid2name[pdg_codes[0]]}_{pdgid2name[pdg_codes[1]]}_lookup.dat'"
   ]
  },
  {
   "cell_type": "code",
   "execution_count": 3,
   "metadata": {},
   "outputs": [],
   "source": [
    "output_plot_folder = '/home/nic/Desktop/MicroBooNE/calorimetry_likelihood/trial/'\n",
    "!mkdir -p $output_plot_folder"
   ]
  },
  {
   "cell_type": "markdown",
   "metadata": {},
   "source": [
    "## Load data"
   ]
  },
  {
   "cell_type": "code",
   "execution_count": 4,
   "metadata": {},
   "outputs": [
    {
     "name": "stdout",
     "output_type": "stream",
     "text": [
      "start loading ~/Desktop/MicroBooNE/calorimetry_likelihood/v08/bnb_nu/out_mc_skimmed.root\n",
      "Done!\n"
     ]
    },
    {
     "name": "stderr",
     "output_type": "stream",
     "text": [
      "/home/nic/miniconda3/envs/pelee/lib/python3.7/site-packages/calorimetry_likelihood/general_functions.py:39: RuntimeWarning: divide by zero encountered in true_divide\n",
      "  return 0.3 / cos\n"
     ]
    }
   ],
   "source": [
    "array, pot = load_data(filename=input_filename, \n",
    "                              branches=branches_lookup, \n",
    "                              fraction=test_fraction, \n",
    "                              before=False)\n",
    "initialisation_for_caloriemtry_data_mc(array)"
   ]
  },
  {
   "cell_type": "markdown",
   "metadata": {},
   "source": [
    "## Load lookup table table and compute PID"
   ]
  },
  {
   "cell_type": "code",
   "execution_count": 5,
   "metadata": {},
   "outputs": [],
   "source": [
    "caloLike_test = caloLikelihood()\n",
    "caloLike_test.load(lookup_calo_filename)\n",
    "caloLike_test.setArray(array, quality_mask=selection_for_test(array), quality_masks_planes=selection_planes(array))\n",
    "compute_pid(caloLike_test.array, lookup_calo_filename)"
   ]
  },
  {
   "cell_type": "markdown",
   "metadata": {},
   "source": [
    "## Plot variable distributions"
   ]
  },
  {
   "cell_type": "code",
   "execution_count": 6,
   "metadata": {},
   "outputs": [],
   "source": [
    "output_plot_folder_performance = output_plot_folder + 'performance_plots/'\n",
    "!mkdir -p $output_plot_folder_performance"
   ]
  },
  {
   "cell_type": "code",
   "execution_count": 7,
   "metadata": {},
   "outputs": [
    {
     "name": "stderr",
     "output_type": "stream",
     "text": [
      "/home/nic/miniconda3/envs/pelee/lib/python3.7/site-packages/calorimetry_likelihood/general_functions.py:225: RuntimeWarning: invalid value encountered in arctan\n",
      "  array[var+'_n'] = 2/np.pi*np.arctan(array[var]/scale)\n"
     ]
    }
   ],
   "source": [
    "from calorimetry_likelihood.hard_coded import variable_labels, variable_labels_fancy\n",
    "\n",
    "plot_variables = [\n",
    "                         'trk_pid_chipr_y',\n",
    "#                          'trk_pid_chimu_y',\n",
    "#                          'trk_bragg_p_y',\n",
    "#                          'trk_bragg_mu_y',\n",
    "#                          'trk_bragg_p_three_planes',\n",
    "#                          'llr_sum_0',\n",
    "#                          'llr_sum_1',\n",
    "                         'llr_sum_2',\n",
    "#                          'llr_01',\n",
    "                         'llr_012',\n",
    "                        ]\n",
    "\n",
    "for variable in plot_variables:\n",
    "    if 'llr' in variable:\n",
    "        scale = 100\n",
    "    elif 'bragg' in variable:\n",
    "        scale = 1\n",
    "    else:\n",
    "        scale = 20\n",
    "    add_norm_variable(caloLike_test.array, variable, scale)"
   ]
  },
  {
   "cell_type": "code",
   "execution_count": 8,
   "metadata": {},
   "outputs": [],
   "source": [
    "bins = 41\n",
    "range = [-1, 1]\n",
    "kwargs = {'histtype':'step'}\n",
    "for var in plot_variables:\n",
    "    variable = var + '_n'\n",
    "    caloLike_test.plotVariableMC(variable, bins, range, function_mask=particle_for_test, \n",
    "                                 kwargs_function_mask={'pdgid':pdg_codes[0]}, quality_mask=True, \n",
    "                                 label=pdgid2name[pdg_codes[0]], **kwargs);\n",
    "    caloLike_test.plotVariableMC(variable, bins, range, function_mask=particle_for_test, \n",
    "                                 kwargs_function_mask={'pdgid':pdg_codes[1]}, quality_mask=True, \n",
    "                                 label=pdgid2name[pdg_codes[1]], **kwargs);\n",
    "    caloLike_test.plotVariableMCFancy(variable, bins, range, function_mask=particle_for_test, \n",
    "                                      kwargs_function_mask={'pdgid':0}, quality_mask=True, \n",
    "                                      label='cosmic', **kwargs);\n",
    "    plt.legend(loc='upper left')\n",
    "    plt.xlabel(variable_labels[var])\n",
    "    plt.tight_layout()\n",
    "    plt.savefig(output_plot_folder_performance + variable + '.png', dpi=250)\n",
    "    plt.savefig(output_plot_folder_performance + variable + '.pdf')\n",
    "    plt.close()"
   ]
  },
  {
   "cell_type": "markdown",
   "metadata": {},
   "source": [
    "# ROC curves"
   ]
  },
  {
   "cell_type": "code",
   "execution_count": 9,
   "metadata": {},
   "outputs": [],
   "source": [
    "out = []\n",
    "with_vertical_line = None\n",
    "for variable in plot_variables:\n",
    "    out.append(caloLike_test.rocCurve(variable=variable+'_n', \n",
    "         pdg_codes=pdg_codes, \n",
    "         plot=True,\n",
    "         variable_label=variable_labels[variable]))\n",
    "#     for mis_id in [0.01, 0.05, 0.1, 0.15, 0.2]:\n",
    "#         print(f\"var = {variable} - cut_value {np.interp(mis_id, out[i][1][::-1], out[i][3][::-1]):.3g}, mis-id {100*mis_id}%, eff {100*np.interp(mis_id, out[i][1][::-1], out[i][2][::-1]):.3g}%\")\n",
    "\n",
    "if with_vertical_line is not None:\n",
    "    plt.vlines(with_vertical_line, 0., plt.gca().get_ylim()[1], 'purple')\n",
    "plt.title('MicroBooNE Simulation', loc='left')\n",
    "plt.title('', loc='right')\n",
    "plt.xlabel(f'{pdgid2name[pdg_codes[0]]} mis-identification rate')\n",
    "plt.ylabel(f'{pdgid2name[pdg_codes[1]]} identification efficiency')\n",
    "\n",
    "if with_vertical_line is not None:\n",
    "    plt.savefig(output_plot_folder_performance + 'roc_curves_with_vline.pdf', bbox_inches='tight')\n",
    "    plt.savefig(output_plot_folder_performance + 'roc_curves_with_vline.png', dpi=250)\n",
    "else:\n",
    "    plt.savefig(output_plot_folder_performance + 'roc_curves.pdf', bbox_inches='tight')\n",
    "    plt.savefig(output_plot_folder_performance + 'roc_curves.png', dpi=250)\n",
    "    \n",
    "plt.close()"
   ]
  },
  {
   "cell_type": "code",
   "execution_count": 10,
   "metadata": {},
   "outputs": [],
   "source": [
    "# roc curves 1d\n",
    "def selection_function(array, parameter, bin_range):\n",
    "    return (array[parameter] >= bin_range[0]) &\\\n",
    "           (array[parameter] < bin_range[1])\n",
    "\n",
    "parameter_names = ['trk_theta', 'trk_phi', 'trk_len']\n",
    "parameter_bin_edges = [np.linspace(0, np.pi, 20), np.linspace(-np.pi, np.pi, 20), np.linspace(0, 100, 20)]\n",
    "paramter_labels = [r'Track $\\theta$', r'Track $\\phi$', 'Track length [cm]']\n",
    "\n",
    "for name, bin_edges, label in zip(parameter_names, parameter_bin_edges, paramter_labels):\n",
    "    for variable in plot_variables:\n",
    "        caloLike_test.auc1D(variable+'_n', \n",
    "                            pdg_codes, \n",
    "                            selection_function, \n",
    "                            name, \n",
    "                            bin_edges,\n",
    "                            legend_label=variable_labels[variable])\n",
    "    \n",
    "    plt.xlabel(label)\n",
    "    plt.legend()\n",
    "    plt.title(f'{pdgid2name[pdg_codes[0]]}/{pdgid2name[pdg_codes[1]]} separation\\nSimulated tracks', loc='left')\n",
    "    plt.tight_layout()\n",
    "    plt.savefig(output_plot_folder_performance+'auc1d_'+name+'.png', dpi=250)\n",
    "    plt.savefig(output_plot_folder_performance+'auc1d_'+name+'.pdf')\n",
    "    plt.close()"
   ]
  },
  {
   "cell_type": "code",
   "execution_count": 11,
   "metadata": {},
   "outputs": [],
   "source": [
    "# roc curves 2d\n",
    "def selection_function(array, parameters_names, bin_ranges):\n",
    "    return (array[parameters_names[0]] >= bin_ranges[0][0]) &\\\n",
    "           (array[parameters_names[0]] < bin_ranges[0][1]) &\\\n",
    "           (array[parameters_names[1]] >= bin_ranges[1][0]) &\\\n",
    "           (array[parameters_names[1]] < bin_ranges[1][1])\n",
    "\n",
    "parameters_names = ['trk_theta', 'trk_phi']\n",
    "parameter_bin_edges = (np.linspace(0, np.pi, 6), np.linspace(-np.pi, np.pi, 10))\n",
    "\n",
    "for variable in plot_variables:\n",
    "    caloLike_test.auc2D(variable+'_n', \n",
    "                            pdg_codes, \n",
    "                            selection_function, \n",
    "                            parameters_names, \n",
    "                            parameter_bin_edges)\n",
    "    plt.xlabel(r'Track $\\theta$')\n",
    "    plt.ylabel(r'Track $\\phi$')\n",
    "    plt.title(f'{pdgid2name[pdg_codes[0]]}/{pdgid2name[pdg_codes[1]]} separation\\nSimulated tracks', loc='left')\n",
    "    plt.tight_layout()\n",
    "    plt.savefig(output_plot_folder_performance+'auc2d'+variable+'.png', dpi=250)\n",
    "    plt.savefig(output_plot_folder_performance+'auc2d'+variable+'.pdf')\n",
    "    plt.close()"
   ]
  },
  {
   "cell_type": "markdown",
   "metadata": {
    "tags": []
   },
   "source": [
    "# 2D plots dedx vs rr"
   ]
  },
  {
   "cell_type": "code",
   "execution_count": 23,
   "metadata": {},
   "outputs": [],
   "source": [
    "output_plot_folder_dedx_vs_rr = output_plot_folder + 'dedx_vs_rr/'\n",
    "!mkdir -p $output_plot_folder_dedx_vs_rr/plane0\n",
    "!mkdir -p $output_plot_folder_dedx_vs_rr/plane1\n",
    "!mkdir -p $output_plot_folder_dedx_vs_rr/plane2"
   ]
  },
  {
   "cell_type": "code",
   "execution_count": 24,
   "metadata": {},
   "outputs": [],
   "source": [
    "pitch_binning = [0.3, 0.6, 1, 1.5, 3, 30]\n",
    "binning = [50, 50]\n",
    "range = [[0, 40], [0, 20]]\n",
    "\n",
    "array = caloLike_test.array\n",
    "selection_test = caloLike_test.quality_mask\n",
    "selection_test_planes = caloLike_test.quality_masks_planes\n",
    "\n",
    "for i, (plane, plane_label) in enumerate(zip(['_u', '_v', '_y'], ['First induction', 'Second induction', 'Collection'])):\n",
    "    for pitch_low, pitch_high in zip(pitch_binning[:-1], pitch_binning[1:]):\n",
    "        pitch_mask = (array['pitch'+plane] >= pitch_low) & (array['pitch'+plane] < pitch_high)\n",
    "    \n",
    "        for pdg, pdg_label in zip(pdg_codes, [pdgid2name[pdg_codes[0]], pdgid2name[pdg_codes[1]]]):\n",
    "            pdg_mask = np.abs(array['backtracked_pdg'])==pdg\n",
    "            total_mask = selection_test & selection_test_planes[i] & pitch_mask & pdg_mask\n",
    "            \n",
    "            dedx = array['dedx'+plane][total_mask].flatten()\n",
    "            rr = array['rr'+plane][total_mask].flatten()\n",
    "            \n",
    "            plt.hist2d(rr, dedx, bins=binning, range=range)\n",
    "            plt.title('MicroBooNE In Progress', loc='right')\n",
    "            plt.title('Simulated tracks backtracked to {}\\n'.format(pdg_label)+\n",
    "                      'fully contained, completeness, purity > 90%\\n'+\n",
    "                      'only hits with {:.2g} cm <= pitch < {:.2g} cm\\n'.format(pitch_low, pitch_high)+\n",
    "                      '{} plane'.format(plane_label), loc='left')\n",
    "            plt.xlabel('Residual range [cm]')\n",
    "            plt.ylabel('dE/dx [MeV/cm]')\n",
    "            plt.tight_layout()\n",
    "            plt.savefig(output_plot_folder_dedx_vs_rr+'plane{}/pdg_{}_{:.1f}_pitch_{:.1f}'.format(i, pdg, pitch_low, pitch_high).replace('.', '')+'.pdf')\n",
    "            plt.savefig(output_plot_folder_dedx_vs_rr+'plane{}/pdg_{}_{:.1f}_pitch_{:.1f}'.format(i, pdg, pitch_low, pitch_high).replace('.', '')+'.png', dpi=250)\n",
    "            plt.close()"
   ]
  }
 ],
 "metadata": {
  "kernelspec": {
   "display_name": "Python 3",
   "language": "python",
   "name": "python3"
  },
  "language_info": {
   "codemirror_mode": {
    "name": "ipython",
    "version": 3
   },
   "file_extension": ".py",
   "mimetype": "text/x-python",
   "name": "python",
   "nbconvert_exporter": "python",
   "pygments_lexer": "ipython3",
   "version": "3.7.11"
  }
 },
 "nbformat": 4,
 "nbformat_minor": 4
}
